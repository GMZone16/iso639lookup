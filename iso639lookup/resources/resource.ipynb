{
 "cells": [
  {
   "cell_type": "code",
   "execution_count": 3,
   "id": "ad025747",
   "metadata": {},
   "outputs": [
    {
     "name": "stdout",
     "output_type": "stream",
     "text": [
      "['I' 'M' 'S']\n",
      "['L' 'E' 'C' 'H' 'S']\n"
     ]
    }
   ],
   "source": [
    "import pandas as pd\n",
    "\n",
    "data = pd.read_csv(\"iso-639-3.tab\", delimiter=\"\\t\")\n",
    "\n",
    "print(data[\"Scope\"].unique())\n",
    "print(data[\"Language_Type\"].unique())"
   ]
  },
  {
   "cell_type": "code",
   "execution_count": 18,
   "id": "e6c34628",
   "metadata": {},
   "outputs": [
    {
     "name": "stdout",
     "output_type": "stream",
     "text": [
      "Index(['M_Id', 'I_Id'], dtype='object')\n"
     ]
    }
   ],
   "source": [
    "import pandas as pd\n",
    "\n",
    "dataIso = pd.read_csv(\"iso-639-3.tab\", delimiter=\"\\t\")\n",
    "dataInfo = pd.read_csv(\"iso-639-3_Name_Index.tab\", delimiter=\"\\t\")\n",
    "macrolanguagesInfo = pd.read_csv(\"iso-639-3-macrolanguages.tab\", delimiter=\"\\t\")\n",
    "\n",
    "#Data ISO Expansion Maps\n",
    "\n",
    "scope_map = {\n",
    "    \"I\": \"Individual\",\n",
    "    \"M\": \"Macrolanguage\",\n",
    "    \"S\": \"Special Code\"\n",
    "}\n",
    "language_type_map = {\n",
    "\"L\": \"Living language\",\n",
    "\"E\": \"Extinct language\",\n",
    "\"C\": \"Constructed language\",\n",
    "\"H\": \"Historical language\",\n",
    "\"S\": \"Special language\"\n",
    "}\n",
    "#Replacing\n",
    "dataIso[\"Scope\"] = dataIso[\"Scope\"].replace(scope_map)\n",
    "dataIso[\"Language_Type\"] = dataIso[\"Language_Type\"].replace(language_type_map)\n",
    "\n",
    "# Dropping status column,\n",
    "macrolanguagesInfo.drop('I_Status', axis=1, inplace=True)\n",
    "print(macrolanguagesInfo.columns)\n",
    "data = pd.merge(dataIso,dataInfo, on=\"Id\", how='left')\n",
    "\n",
    "final_data =pd.merge(data, macrolanguagesInfo, left_on='Id', right_on='I_Id', how='left')\n",
    "    \n",
    "final_data.drop('I_Id', axis=1, inplace=True)\n",
    "\n",
    "column_names = []\n",
    "for i in final_data.columns:\n",
    "    if i == \"Id\":\n",
    "        column_names.append(\"part3\")\n",
    "        continue\n",
    "    column_names.append(i.lower())\n",
    "\n",
    "final_data.columns = column_names\n",
    "final_data.to_csv(\"iso-info.csv\", index=False)\n"
   ]
  },
  {
   "cell_type": "code",
   "execution_count": null,
   "id": "b64bb5aa",
   "metadata": {},
   "outputs": [],
   "source": []
  }
 ],
 "metadata": {
  "kernelspec": {
   "display_name": "Python 3",
   "language": "python",
   "name": "python3"
  },
  "language_info": {
   "codemirror_mode": {
    "name": "ipython",
    "version": 3
   },
   "file_extension": ".py",
   "mimetype": "text/x-python",
   "name": "python",
   "nbconvert_exporter": "python",
   "pygments_lexer": "ipython3",
   "version": "3.12.6"
  }
 },
 "nbformat": 4,
 "nbformat_minor": 5
}
